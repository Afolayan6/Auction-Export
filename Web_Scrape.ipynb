{
 "cells": [
  {
   "cell_type": "code",
   "execution_count": 4,
   "id": "51ef5547-600e-43f2-aa14-50749eeba2c4",
   "metadata": {},
   "outputs": [],
   "source": [
    "#importing important libaries \n",
    "import pandas as pd\n",
    "from bs4 import BeautifulSoup\n",
    "import requests"
   ]
  },
  {
   "cell_type": "code",
   "execution_count": 131,
   "id": "385afe51-df10-4778-96a4-1cb4c8523762",
   "metadata": {},
   "outputs": [],
   "source": [
    "#Creating empty lists for the information that will be stored\n",
    "Year = []\n",
    "Brand = []\n",
    "Model = []\n",
    "State = []\n",
    "Milage = []\n",
    "Color = []\n",
    "Price = []\n",
    "Body = []"
   ]
  },
  {
   "cell_type": "code",
   "execution_count": 8,
   "id": "ef5cb83a-60f8-4c5d-9b7c-6fb7e73f7432",
   "metadata": {},
   "outputs": [],
   "source": [
    "#A list of different body types which is used in the function\n",
    "body_types = [\"SUV\", \"Sedan\", \"Convertible\", \"Wagon\", \"Hatchback\", \"Pickup\", \"Van\", \"Utility\", \"Cruiser\"]"
   ]
  },
  {
   "cell_type": "code",
   "execution_count": 56,
   "id": "493c4537-f4a2-4a6c-a11d-9913eefe5592",
   "metadata": {},
   "outputs": [],
   "source": [
    "#Creating the web scraping function\n",
    "def scrape_cars():\n",
    "    cars = soup.find_all(\"div\", class_ = \"sv-container\")\n",
    "    for car in cars:    \n",
    "        car_name = car.find(\"div\", class_ = \"sv-title-container\").span.a.text\n",
    "        div1 = car.find(\"div\", class_ = \"sv-desc-container\")\n",
    "        location = div1.find_all(\"span\", class_ = \"value\")[2].text.strip()\n",
    "        div2 = car.find(\"div\", class_ = \"sv-desc-container middle\")\n",
    "        milage = div2.find_all(\"span\", class_ = \"value\")[0].text\n",
    "        color = div2.find_all(\"span\", class_ = \"value\")[1].text\n",
    "        year = car_name.split(\" \")[0]\n",
    "        brand = car_name.split(\" \")[1]\n",
    "        model = car_name.split(\" \")[2]\n",
    "        state = location.split(\",\")[0]\n",
    "        div3 = car.find(\"div\", class_ = \"price-pane\")\n",
    "        status = div3.find(\"span\", class_ = \"label\")\n",
    "        if status is not None:\n",
    "            status = status.text\n",
    "            if \"buy\" in status:\n",
    "                price_1 = div3.find(\"span\", class_ = \"value\").text.replace(\",\", \"\")\n",
    "                price = int(price_1.split(\" \")[1])\n",
    "                Year.append(year)\n",
    "                Brand.append(brand)\n",
    "                Model.append(model)\n",
    "                State.append(state)\n",
    "                Milage.append(milage)\n",
    "                Color.append(color)\n",
    "                Price.append(price)\n",
    "                match_found = False\n",
    "                for types in body_types:\n",
    "                    if types.lower() in car_name.lower():\n",
    "                        Body.append(types)\n",
    "                        match_found = True\n",
    "                        break\n",
    "                if not match_found:\n",
    "                    Body.append(\"Unknown\")"
   ]
  },
  {
   "cell_type": "code",
   "execution_count": null,
   "id": "487a4bde-8c36-448b-9707-b38e9ef1e6cf",
   "metadata": {},
   "outputs": [],
   "source": [
    "#Calling the web scraping function for the first 850 pages\n",
    "for i in range(1, 851):\n",
    "    url = \"https://www.auctionexport.com/en/cars/clean/page/\"\n",
    "    page = requests.get(url + str(i))\n",
    "    soup = BeautifulSoup(page.text, \"html\")\n",
    "    scrape_cars()"
   ]
  },
  {
   "cell_type": "code",
   "execution_count": 133,
   "id": "5d7ac636-b6b6-4bdb-aa85-6e18b68e4698",
   "metadata": {},
   "outputs": [],
   "source": [
    "#Turning the lists into a pandas dataframe\n",
    "data = {\n",
    "    \"Year\": Year,\n",
    "    \"Brand\": Brand,\n",
    "    \"Model\": Model,\n",
    "    \"State\": State,\n",
    "    \"Milage\": Milage,\n",
    "    \"Color\": Color,\n",
    "    \"Price\": Price,\n",
    "    \"Body\": Body\n",
    "}\n",
    "df = pd.DataFrame(data)"
   ]
  },
  {
   "cell_type": "code",
   "execution_count": 76,
   "id": "1c5ca8a2-8acc-4d8a-a91a-df190e6d1822",
   "metadata": {},
   "outputs": [],
   "source": [
    "#Exporting the table into a csv file\n",
    "df.to_csv(\"Auction_Export\")"
   ]
  }
 ],
 "metadata": {
  "kernelspec": {
   "display_name": "Python 3 (ipykernel)",
   "language": "python",
   "name": "python3"
  },
  "language_info": {
   "codemirror_mode": {
    "name": "ipython",
    "version": 3
   },
   "file_extension": ".py",
   "mimetype": "text/x-python",
   "name": "python",
   "nbconvert_exporter": "python",
   "pygments_lexer": "ipython3",
   "version": "3.12.4"
  }
 },
 "nbformat": 4,
 "nbformat_minor": 5
}
